{
 "cells": [
  {
   "cell_type": "markdown",
   "metadata": {},
   "source": [
    "### Machine Learning for Audio data\n",
    "##### Pushkar Sheth\n",
    "##### https://phsheth.github.io"
   ]
  },
  {
   "cell_type": "markdown",
   "metadata": {},
   "source": [
    "#### Load the Python libraries"
   ]
  },
  {
   "cell_type": "code",
   "execution_count": null,
   "metadata": {},
   "outputs": [],
   "source": [
    "from __future__ import print_function, division\n",
    "\n",
    "import thinkdsp\n",
    "import thinkplot\n",
    "\n",
    "import numpy\n",
    "import numpy as np\n",
    "import matplotlib.pyplot as plt\n",
    "\n",
    "from time import perf_counter\n",
    "import pandas as pd\n",
    "\n",
    "from sklearn.model_selection import train_test_split\n",
    "from sklearn.metrics import accuracy_score\n",
    "\n",
    "\n",
    "from sklearn.ensemble import RandomForestClassifier\n",
    "from xgboost import XGBClassifier\n",
    "from sklearn.multiclass import OneVsRestClassifier\n",
    "\n",
    "%matplotlib inline"
   ]
  },
  {
   "cell_type": "markdown",
   "metadata": {},
   "source": [
    "#### Load the audio data of Mixer Grinder captured using mobile phone"
   ]
  },
  {
   "cell_type": "code",
   "execution_count": null,
   "metadata": {},
   "outputs": [],
   "source": [
    "mixer_speed_1_raw = thinkdsp.read_wave('mixer_speed_1.wav')\n",
    "mixer_speed_2_raw = thinkdsp.read_wave('mixer_speed_2.wav')\n",
    "mixer_speed_3_raw = thinkdsp.read_wave('mixer_speed_3.wav')"
   ]
  },
  {
   "cell_type": "markdown",
   "metadata": {},
   "source": [
    "#### Play the three speeds of Mixer Grinder audio files"
   ]
  },
  {
   "cell_type": "code",
   "execution_count": null,
   "metadata": {},
   "outputs": [],
   "source": [
    "mixer_speed_1_raw.make_audio()"
   ]
  },
  {
   "cell_type": "code",
   "execution_count": null,
   "metadata": {},
   "outputs": [],
   "source": [
    "mixer_speed_2_raw.make_audio()"
   ]
  },
  {
   "cell_type": "code",
   "execution_count": null,
   "metadata": {},
   "outputs": [],
   "source": [
    "mixer_speed_3_raw.make_audio()"
   ]
  },
  {
   "cell_type": "markdown",
   "metadata": {},
   "source": [
    "#### Plot the three mixer audio clips"
   ]
  },
  {
   "cell_type": "code",
   "execution_count": null,
   "metadata": {},
   "outputs": [],
   "source": [
    "plt.plot(mixer_speed_1_raw.ts,mixer_speed_1_raw.ys)\n",
    "plt.show()"
   ]
  },
  {
   "cell_type": "code",
   "execution_count": null,
   "metadata": {},
   "outputs": [],
   "source": [
    "plt.plot(mixer_speed_2_raw.ts,mixer_speed_2_raw.ys)\n",
    "plt.show()"
   ]
  },
  {
   "cell_type": "code",
   "execution_count": null,
   "metadata": {},
   "outputs": [],
   "source": [
    "plt.plot(mixer_speed_3_raw.ts,mixer_speed_3_raw.ys)\n",
    "plt.show()"
   ]
  },
  {
   "cell_type": "markdown",
   "metadata": {},
   "source": [
    "#### Split the audio data to segments of 0.5 seconds"
   ]
  },
  {
   "cell_type": "code",
   "execution_count": null,
   "metadata": {},
   "outputs": [],
   "source": [
    "mixer_speed_1_raw_dataset1 = mixer_speed_1_raw.segment(0.0, 0.5)\n",
    "mixer_speed_1_raw_dataset2 = mixer_speed_1_raw.segment(0.5, 0.5)\n",
    "mixer_speed_1_raw_dataset3 = mixer_speed_1_raw.segment(1.0, 0.5)\n",
    "mixer_speed_1_raw_dataset4 = mixer_speed_1_raw.segment(1.5, 0.5)\n",
    "mixer_speed_1_raw_dataset5 = mixer_speed_1_raw.segment(2.0, 0.5)"
   ]
  },
  {
   "cell_type": "code",
   "execution_count": null,
   "metadata": {},
   "outputs": [],
   "source": [
    "mixer_speed_2_raw_dataset1 = mixer_speed_2_raw.segment(0.0, 0.5)\n",
    "mixer_speed_2_raw_dataset2 = mixer_speed_2_raw.segment(0.5, 0.5)\n",
    "mixer_speed_2_raw_dataset3 = mixer_speed_2_raw.segment(1.0, 0.5)\n",
    "mixer_speed_2_raw_dataset4 = mixer_speed_2_raw.segment(1.5, 0.5)\n",
    "mixer_speed_2_raw_dataset5 = mixer_speed_2_raw.segment(2.0, 0.5)\n",
    "mixer_speed_2_raw_dataset6 = mixer_speed_2_raw.segment(2.5, 0.5)"
   ]
  },
  {
   "cell_type": "code",
   "execution_count": null,
   "metadata": {},
   "outputs": [],
   "source": [
    "mixer_speed_3_raw_dataset1 = mixer_speed_3_raw.segment(0.0, 0.5)\n",
    "mixer_speed_3_raw_dataset2 = mixer_speed_3_raw.segment(0.5, 0.5)\n",
    "mixer_speed_3_raw_dataset3 = mixer_speed_3_raw.segment(1.0, 0.5)\n",
    "mixer_speed_3_raw_dataset4 = mixer_speed_3_raw.segment(1.5, 0.5)"
   ]
  },
  {
   "cell_type": "markdown",
   "metadata": {},
   "source": [
    "#### Convert the audio segments to spectrum"
   ]
  },
  {
   "cell_type": "code",
   "execution_count": null,
   "metadata": {},
   "outputs": [],
   "source": [
    "mixer_speed_1_raw_dataset1_spectrum = mixer_speed_1_raw_dataset1.make_spectrum()\n",
    "mixer_speed_1_raw_dataset2_spectrum = mixer_speed_1_raw_dataset2.make_spectrum()\n",
    "mixer_speed_1_raw_dataset3_spectrum = mixer_speed_1_raw_dataset3.make_spectrum()\n",
    "mixer_speed_1_raw_dataset4_spectrum = mixer_speed_1_raw_dataset4.make_spectrum()\n",
    "mixer_speed_1_raw_dataset5_spectrum = mixer_speed_1_raw_dataset5.make_spectrum()"
   ]
  },
  {
   "cell_type": "code",
   "execution_count": null,
   "metadata": {},
   "outputs": [],
   "source": [
    "mixer_speed_2_raw_dataset1_spectrum = mixer_speed_2_raw_dataset1.make_spectrum()\n",
    "mixer_speed_2_raw_dataset2_spectrum = mixer_speed_2_raw_dataset2.make_spectrum()\n",
    "mixer_speed_2_raw_dataset3_spectrum = mixer_speed_2_raw_dataset3.make_spectrum()\n",
    "mixer_speed_2_raw_dataset4_spectrum = mixer_speed_2_raw_dataset4.make_spectrum()\n",
    "mixer_speed_2_raw_dataset5_spectrum = mixer_speed_2_raw_dataset5.make_spectrum()\n",
    "mixer_speed_2_raw_dataset6_spectrum = mixer_speed_2_raw_dataset6.make_spectrum()"
   ]
  },
  {
   "cell_type": "code",
   "execution_count": null,
   "metadata": {},
   "outputs": [],
   "source": [
    "mixer_speed_3_raw_dataset1_spectrum = mixer_speed_3_raw_dataset1.make_spectrum()\n",
    "mixer_speed_3_raw_dataset2_spectrum = mixer_speed_3_raw_dataset2.make_spectrum()\n",
    "mixer_speed_3_raw_dataset3_spectrum = mixer_speed_3_raw_dataset3.make_spectrum()\n",
    "mixer_speed_3_raw_dataset4_spectrum = mixer_speed_3_raw_dataset4.make_spectrum()"
   ]
  },
  {
   "cell_type": "markdown",
   "metadata": {},
   "source": [
    "### Create repeated Data Sets for ML model training and testing"
   ]
  },
  {
   "cell_type": "code",
   "execution_count": null,
   "metadata": {},
   "outputs": [],
   "source": [
    "def incrsd(data, sdp):\n",
    "    data2 = data + np.random.normal(0,np.abs(np.max(data)*sdp), len(data))\n",
    "    return data2\n",
    "\n",
    "## Generate Sound Level Truth Table\n",
    "## level = l\n",
    "def truthtablegen_level(l1,l2,l3):\n",
    "    truthtabletemp = np.array([l1, l2, l3])\n",
    "    return truthtabletemp"
   ]
  },
  {
   "cell_type": "code",
   "execution_count": null,
   "metadata": {},
   "outputs": [],
   "source": [
    "sdevmodel = 2.0"
   ]
  },
  {
   "cell_type": "code",
   "execution_count": null,
   "metadata": {},
   "outputs": [],
   "source": [
    "mixer_speed_1_rds1_df = [incrsd(mixer_speed_1_raw_dataset1_spectrum.amps, sdevmodel) for _ in range(120)]\n",
    "mixer_speed_1_rds1_tt = [truthtablegen_level(1,0,0) for _ in range(120)]\n",
    "mixer_speed_1_rds2_df = [incrsd(mixer_speed_1_raw_dataset2_spectrum.amps, sdevmodel) for _ in range(120)]\n",
    "mixer_speed_1_rds2_tt = [truthtablegen_level(1,0,0) for _ in range(120)]\n",
    "mixer_speed_1_rds3_df = [incrsd(mixer_speed_1_raw_dataset3_spectrum.amps, sdevmodel) for _ in range(120)]\n",
    "mixer_speed_1_rds3_tt = [truthtablegen_level(1,0,0) for _ in range(120)]\n",
    "mixer_speed_1_rds4_df = [incrsd(mixer_speed_1_raw_dataset4_spectrum.amps, sdevmodel) for _ in range(120)]\n",
    "mixer_speed_1_rds4_tt = [truthtablegen_level(1,0,0) for _ in range(120)]\n",
    "mixer_speed_1_rds5_df = [incrsd(mixer_speed_1_raw_dataset5_spectrum.amps, sdevmodel) for _ in range(120)]\n",
    "mixer_speed_1_rds5_tt = [truthtablegen_level(1,0,0) for _ in range(120)]"
   ]
  },
  {
   "cell_type": "code",
   "execution_count": null,
   "metadata": {},
   "outputs": [],
   "source": [
    "mixer_speed_2_rds1_df = [incrsd(mixer_speed_2_raw_dataset1_spectrum.amps, sdevmodel) for _ in range(120)]\n",
    "mixer_speed_2_rds1_tt = [truthtablegen_level(0,1,0) for _ in range(120)]\n",
    "mixer_speed_2_rds2_df = [incrsd(mixer_speed_2_raw_dataset2_spectrum.amps, sdevmodel) for _ in range(120)]\n",
    "mixer_speed_2_rds2_tt = [truthtablegen_level(0,1,0) for _ in range(120)]\n",
    "mixer_speed_2_rds3_df = [incrsd(mixer_speed_2_raw_dataset3_spectrum.amps, sdevmodel) for _ in range(120)]\n",
    "mixer_speed_2_rds3_tt = [truthtablegen_level(0,1,0) for _ in range(120)]\n",
    "mixer_speed_2_rds4_df = [incrsd(mixer_speed_2_raw_dataset4_spectrum.amps, sdevmodel) for _ in range(120)]\n",
    "mixer_speed_2_rds4_tt = [truthtablegen_level(0,1,0) for _ in range(120)]\n",
    "mixer_speed_2_rds5_df = [incrsd(mixer_speed_2_raw_dataset5_spectrum.amps, sdevmodel) for _ in range(120)]\n",
    "mixer_speed_2_rds5_tt = [truthtablegen_level(0,1,0) for _ in range(120)]\n",
    "mixer_speed_2_rds6_df = [incrsd(mixer_speed_2_raw_dataset6_spectrum.amps, sdevmodel) for _ in range(120)]\n",
    "mixer_speed_2_rds6_tt = [truthtablegen_level(0,1,0) for _ in range(120)]"
   ]
  },
  {
   "cell_type": "code",
   "execution_count": null,
   "metadata": {},
   "outputs": [],
   "source": [
    "mixer_speed_3_rds1_df = [incrsd(mixer_speed_3_raw_dataset1_spectrum.amps, sdevmodel) for _ in range(120)]\n",
    "mixer_speed_3_rds1_tt = [truthtablegen_level(0,0,1) for _ in range(120)]\n",
    "mixer_speed_3_rds2_df = [incrsd(mixer_speed_3_raw_dataset2_spectrum.amps, sdevmodel) for _ in range(120)]\n",
    "mixer_speed_3_rds2_tt = [truthtablegen_level(0,0,1) for _ in range(120)]\n",
    "mixer_speed_3_rds3_df = [incrsd(mixer_speed_3_raw_dataset3_spectrum.amps, sdevmodel) for _ in range(120)]\n",
    "mixer_speed_3_rds3_tt = [truthtablegen_level(0,0,1) for _ in range(120)]\n",
    "mixer_speed_3_rds4_df = [incrsd(mixer_speed_3_raw_dataset4_spectrum.amps, sdevmodel) for _ in range(120)]\n",
    "mixer_speed_3_rds4_tt = [truthtablegen_level(0,0,1) for _ in range(120)]"
   ]
  },
  {
   "cell_type": "code",
   "execution_count": null,
   "metadata": {},
   "outputs": [],
   "source": [
    "np.shape(mixer_speed_1_rds1_df)"
   ]
  },
  {
   "cell_type": "code",
   "execution_count": null,
   "metadata": {},
   "outputs": [],
   "source": [
    "np.shape(mixer_speed_1_rds1_tt)"
   ]
  },
  {
   "cell_type": "code",
   "execution_count": null,
   "metadata": {},
   "outputs": [],
   "source": [
    "x = np.block([np.transpose(mixer_speed_1_rds1_df), \n",
    "              np.transpose(mixer_speed_1_rds2_df),\n",
    "              np.transpose(mixer_speed_1_rds3_df), \n",
    "              np.transpose(mixer_speed_1_rds4_df),\n",
    "              np.transpose(mixer_speed_1_rds5_df),\n",
    "              np.transpose(mixer_speed_2_rds1_df),\n",
    "              np.transpose(mixer_speed_2_rds2_df),\n",
    "              np.transpose(mixer_speed_2_rds3_df),\n",
    "              np.transpose(mixer_speed_2_rds4_df),\n",
    "              np.transpose(mixer_speed_2_rds5_df),\n",
    "              np.transpose(mixer_speed_2_rds6_df),\n",
    "              np.transpose(mixer_speed_3_rds1_df),\n",
    "              np.transpose(mixer_speed_3_rds2_df),\n",
    "              np.transpose(mixer_speed_3_rds3_df),\n",
    "              np.transpose(mixer_speed_3_rds4_df)])\n",
    "y = np.block([np.transpose(mixer_speed_1_rds1_tt), \n",
    "              np.transpose(mixer_speed_1_rds2_tt),\n",
    "              np.transpose(mixer_speed_1_rds3_tt), \n",
    "              np.transpose(mixer_speed_1_rds4_tt),\n",
    "              np.transpose(mixer_speed_1_rds5_tt),\n",
    "              np.transpose(mixer_speed_2_rds1_tt),\n",
    "              np.transpose(mixer_speed_2_rds2_tt),\n",
    "              np.transpose(mixer_speed_2_rds3_tt),\n",
    "              np.transpose(mixer_speed_2_rds4_tt),\n",
    "              np.transpose(mixer_speed_2_rds5_tt),\n",
    "              np.transpose(mixer_speed_2_rds6_tt),\n",
    "              np.transpose(mixer_speed_3_rds1_tt),\n",
    "              np.transpose(mixer_speed_3_rds2_tt),\n",
    "              np.transpose(mixer_speed_3_rds3_tt),\n",
    "              np.transpose(mixer_speed_3_rds4_tt)])"
   ]
  },
  {
   "cell_type": "code",
   "execution_count": null,
   "metadata": {},
   "outputs": [],
   "source": [
    "np.shape(x),np.shape(y)"
   ]
  },
  {
   "cell_type": "code",
   "execution_count": null,
   "metadata": {},
   "outputs": [],
   "source": [
    "mixer_df = pd.DataFrame(np.transpose(x))\n",
    "mixer_tt_df = pd.DataFrame(np.transpose(y))"
   ]
  },
  {
   "cell_type": "code",
   "execution_count": null,
   "metadata": {},
   "outputs": [],
   "source": [
    "mixer_df.head()"
   ]
  },
  {
   "cell_type": "code",
   "execution_count": null,
   "metadata": {},
   "outputs": [],
   "source": [
    "mixer_tt_df.head()"
   ]
  },
  {
   "cell_type": "code",
   "execution_count": null,
   "metadata": {},
   "outputs": [],
   "source": [
    "x_train, x_test, y_train, y_test = train_test_split(mixer_df,mixer_tt_df, test_size = 0.3, random_state=0)"
   ]
  },
  {
   "cell_type": "code",
   "execution_count": null,
   "metadata": {},
   "outputs": [],
   "source": [
    "np.shape(x_train), np.shape(y_train)"
   ]
  },
  {
   "cell_type": "code",
   "execution_count": null,
   "metadata": {},
   "outputs": [],
   "source": [
    "np.shape(x_test), np.shape(y_test )"
   ]
  },
  {
   "cell_type": "code",
   "execution_count": null,
   "metadata": {},
   "outputs": [],
   "source": [
    "classifier_multilabel_xgb = OneVsRestClassifier(XGBClassifier())\n",
    "classifier_multilabel_xgb.fit(x_train, y_train)"
   ]
  },
  {
   "cell_type": "code",
   "execution_count": null,
   "metadata": {},
   "outputs": [],
   "source": [
    "y_pred_xgb = classifier_multilabel_xgb.predict(x_test)"
   ]
  },
  {
   "cell_type": "code",
   "execution_count": null,
   "metadata": {},
   "outputs": [],
   "source": [
    "accuracy_xgb = accuracy_score(y_test, y_pred_xgb )\n",
    "print(\"Accuracy of XGBoost Classifier: %.2f%%\" % (accuracy_xgb * 100.0))"
   ]
  },
  {
   "cell_type": "code",
   "execution_count": null,
   "metadata": {},
   "outputs": [],
   "source": []
  }
 ],
 "metadata": {
  "kernelspec": {
   "display_name": "Python 3",
   "language": "python",
   "name": "python3"
  },
  "language_info": {
   "codemirror_mode": {
    "name": "ipython",
    "version": 3
   },
   "file_extension": ".py",
   "mimetype": "text/x-python",
   "name": "python",
   "nbconvert_exporter": "python",
   "pygments_lexer": "ipython3",
   "version": "3.6.4"
  }
 },
 "nbformat": 4,
 "nbformat_minor": 2
}
